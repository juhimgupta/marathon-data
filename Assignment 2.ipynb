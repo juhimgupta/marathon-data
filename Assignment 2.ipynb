{
 "cells": [
  {
   "cell_type": "markdown",
   "metadata": {},
   "source": [
    "# Reading .csv Marathon Dataframe Using Pandas and Statistics Calculation"
   ]
  },
  {
   "cell_type": "markdown",
   "metadata": {},
   "source": [
    "## Part 1: Retrieving the Required Data"
   ]
  },
  {
   "cell_type": "markdown",
   "metadata": {},
   "source": [
    "__We are given a dataframe in a csv file that shows data for marathon runners' age, gender, start time, and final time.__\n",
    "\n",
    "__Step 1:__ Import pandas to make reading the file and performing basic statistics operations easier. "
   ]
  },
  {
   "cell_type": "code",
   "execution_count": 5,
   "metadata": {},
   "outputs": [],
   "source": [
    "import pandas as pd"
   ]
  },
  {
   "cell_type": "markdown",
   "metadata": {},
   "source": [
    "__Step 2:__ Obtain the dataframe file we want to look at using the path of file in the machine and save it to *data*. Here, *r* is added before C due to an error occuring because of the use of a normal string as a path. "
   ]
  },
  {
   "cell_type": "code",
   "execution_count": 6,
   "metadata": {
    "scrolled": true
   },
   "outputs": [],
   "source": [
    "data = pd.read_csv(r\"C:\\Users\\guptaj\\Documents\\Junior Year_RPI\\Applied Mathematical Methods of Materials\\marathon-data\\marathondata.csv\")"
   ]
  },
  {
   "cell_type": "markdown",
   "metadata": {},
   "source": [
    "__Step 3:__ We need to convert the hours (h), minutes (m), and seconds(s) data that was inputted to just seconds. So, we define a function called timetosec so that we can convert every entry in the _split_ and _final_ columns to a single integer value which is that time in seconds. "
   ]
  },
  {
   "cell_type": "code",
   "execution_count": 7,
   "metadata": {},
   "outputs": [],
   "source": [
    "def timetosec(t):\n",
    "    \"\"\"Get Seconds from time.\"\"\"\n",
    "    h, m, s = t.split(':')\n",
    "    return int(h) * 3600 + int(m) * 60 + int(s)"
   ]
  },
  {
   "cell_type": "markdown",
   "metadata": {},
   "source": [
    "__Step 4:__ Now that a function has been created to convert the original time format to just seconds, we need to apply this function to the columns _split_ and _final_. Below, we take those columns and using dataframe.apply, which is part of the pandas package. "
   ]
  },
  {
   "cell_type": "code",
   "execution_count": 11,
   "metadata": {},
   "outputs": [],
   "source": [
    "data['final']= data['final'].apply(timetosec)\n",
    "data['split'] = data['split'].apply(timetosec)"
   ]
  },
  {
   "cell_type": "markdown",
   "metadata": {},
   "source": [
    "__Step 5:__ Now we can print the data to ensure the necessary changes have been made. "
   ]
  },
  {
   "cell_type": "code",
   "execution_count": 14,
   "metadata": {},
   "outputs": [
    {
     "name": "stdout",
     "output_type": "stream",
     "text": [
      "       age gender  split  final\n",
      "0       33      M   3938   7731\n",
      "1       32      M   3986   7768\n",
      "2       31      M   4009   7842\n",
      "3       38      M   3976   8025\n",
      "4       31      M   3992   8039\n",
      "...    ...    ...    ...    ...\n",
      "37245   18      M  15864  34377\n",
      "37246   36      M  16543  34408\n",
      "37247   51      M  15755  34420\n",
      "37248   55      W  17886  36040\n",
      "37249   58      W  17989  36068\n",
      "\n",
      "[37250 rows x 4 columns]\n"
     ]
    }
   ],
   "source": [
    "print(data)"
   ]
  },
  {
   "cell_type": "markdown",
   "metadata": {},
   "source": [
    "## Part 2: Statistical Calculations"
   ]
  },
  {
   "cell_type": "markdown",
   "metadata": {},
   "source": [
    "__Step 1:__ We can calculate the __maximum__ value of the _age_ , _split_ , and _final_ columns using .max() and print those values. "
   ]
  },
  {
   "cell_type": "code",
   "execution_count": 22,
   "metadata": {},
   "outputs": [
    {
     "name": "stdout",
     "output_type": "stream",
     "text": [
      "86\n",
      "17989\n",
      "36068\n"
     ]
    }
   ],
   "source": [
    "AgeMax = data['age'].max()\n",
    "SplitMax = data['split'].max()\n",
    "FinalMax = data['final'].max()\n",
    "print(AgeMax)\n",
    "print(SplitMax)\n",
    "print(FinalMax)"
   ]
  },
  {
   "cell_type": "markdown",
   "metadata": {},
   "source": [
    "__Step 2:__ We can calculate the __minimum__ value of the _age_ , _split_ , and _final_ columns using .min() and print those values."
   ]
  },
  {
   "cell_type": "code",
   "execution_count": 23,
   "metadata": {},
   "outputs": [
    {
     "name": "stdout",
     "output_type": "stream",
     "text": [
      "17\n",
      "3921\n",
      "7731\n"
     ]
    }
   ],
   "source": [
    "AgeMin = data['age'].min()\n",
    "SplitMin = data['split'].min()\n",
    "FinalMin = data['final'].min()\n",
    "print(AgeMin)\n",
    "print(SplitMin)\n",
    "print(FinalMin)"
   ]
  },
  {
   "cell_type": "markdown",
   "metadata": {},
   "source": [
    "__Step 3:__  We can calculate the __mean__ value of the _age_ , _split_ , and _final_ columns using .mean() and print those values."
   ]
  },
  {
   "cell_type": "code",
   "execution_count": 24,
   "metadata": {},
   "outputs": [
    {
     "name": "stdout",
     "output_type": "stream",
     "text": [
      "40.69736912751678\n",
      "7434.42566442953\n",
      "17289.303597315436\n"
     ]
    }
   ],
   "source": [
    "AgeMean = data['age'].mean()\n",
    "SplitMean = data['split'].mean()\n",
    "FinalMean = data['final'].mean()\n",
    "print(AgeMean)\n",
    "print(SplitMean)\n",
    "print(FinalMean)"
   ]
  },
  {
   "cell_type": "markdown",
   "metadata": {},
   "source": [
    "__Step 4:__  We can calculate the __standard deviation__ value of the _age_ , _split_ , and _final_ columns using .stdev() and print those values."
   ]
  },
  {
   "cell_type": "code",
   "execution_count": 26,
   "metadata": {},
   "outputs": [
    {
     "name": "stdout",
     "output_type": "stream",
     "text": [
      "10.220043330474732\n",
      "1375.0938896742039\n",
      "3812.145345151092\n"
     ]
    }
   ],
   "source": [
    "AgeSd = data['age'].std()\n",
    "SplitSd = data['split'].std()\n",
    "FinalSd = data['final'].std()\n",
    "print(AgeSd)\n",
    "print(SplitSd)\n",
    "print(FinalSd)"
   ]
  },
  {
   "cell_type": "markdown",
   "metadata": {},
   "source": [
    "__Step 5:__ We can plot histograms of the _age_ , _split_ , and _final_ columns using .plot.hist(). To make it easier to label the histograms producted, we can import matplotlib.pyplot.  "
   ]
  },
  {
   "cell_type": "code",
   "execution_count": 38,
   "metadata": {},
   "outputs": [],
   "source": [
    "import matplotlib.pyplot as plt"
   ]
  },
  {
   "cell_type": "code",
   "execution_count": 39,
   "metadata": {},
   "outputs": [
    {
     "data": {
      "text/plain": [
       "Text(0, 0.5, 'Frequency')"
      ]
     },
     "execution_count": 39,
     "metadata": {},
     "output_type": "execute_result"
    },
    {
     "data": {
      "image/png": "[encoded data removed]",
      "text/plain": [
       "<Figure size 432x288 with 1 Axes>"
      ]
     },
     "metadata": {
      "needs_background": "light"
     },
     "output_type": "display_data"
    }
   ],
   "source": [
    "data['age'].plot.hist(grid = True,bins=20, rwidth=0.9, color='m')\n",
    "\n",
    "plt.title('Histogram of Ages')\n",
    "plt.xlabel('Ages')\n",
    "plt.ylabel('Frequency')"
   ]
  },
  {
   "cell_type": "code",
   "execution_count": 45,
   "metadata": {},
   "outputs": [
    {
     "data": {
      "text/plain": [
       "Text(0, 0.5, 'Frequency')"
      ]
     },
     "execution_count": 45,
     "metadata": {},
     "output_type": "execute_result"
    },
    {
     "data": {
      "image/png": "[encoded data removed]",
      "text/plain": [
       "<Figure size 432x288 with 1 Axes>"
      ]
     },
     "metadata": {
      "needs_background": "light"
     },
     "output_type": "display_data"
    }
   ],
   "source": [
    "data['split'].plot.hist(grid = True,bins=20, rwidth=0.9, color='b')\n",
    "\n",
    "plt.title('Histogram of Split Times')\n",
    "plt.xlabel('Times (seconds)')\n",
    "plt.ylabel('Frequency')"
   ]
  },
  {
   "cell_type": "code",
   "execution_count": 44,
   "metadata": {},
   "outputs": [
    {
     "data": {
      "text/plain": [
       "Text(0, 0.5, 'Frequency')"
      ]
     },
     "execution_count": 44,
     "metadata": {},
     "output_type": "execute_result"
    },
    {
     "data": {
      "image/png": "[encoded data removed]",
      "text/plain": [
       "<Figure size 432x288 with 1 Axes>"
      ]
     },
     "metadata": {
      "needs_background": "light"
     },
     "output_type": "display_data"
    }
   ],
   "source": [
    "data['final'].plot.hist(grid = True,bins=20, rwidth=0.9, color='g')\n",
    "\n",
    "plt.title('Histogram of Final Times')\n",
    "plt.xlabel('Times (seconds)')\n",
    "plt.ylabel('Frequency')"
   ]
  },
  {
   "cell_type": "markdown",
   "metadata": {},
   "source": [
    "## References"
   ]
  },
  {
   "cell_type": "markdown",
   "metadata": {},
   "source": [
    "* https://stackoverflow.com/questions/6402812/how-to-convert-an-hmmss-time-string-to-seconds-in-python\n",
    "* https://realpython.com/python-histograms/"
   ]
  }
 ],
 "metadata": {
  "kernelspec": {
   "display_name": "Python 3",
   "language": "python",
   "name": "python3"
  },
  "language_info": {
   "codemirror_mode": {
    "name": "ipython",
    "version": 3
   },
   "file_extension": ".py",
   "mimetype": "text/x-python",
   "name": "python",
   "nbconvert_exporter": "python",
   "pygments_lexer": "ipython3",
   "version": "3.7.6"
  }
 },
 "nbformat": 4,
 "nbformat_minor": 4
}
